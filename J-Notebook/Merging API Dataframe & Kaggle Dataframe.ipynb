{
 "cells": [
  {
   "cell_type": "code",
   "execution_count": 23,
   "metadata": {},
   "outputs": [],
   "source": [
    "import requests\n",
    "import numpy as np\n",
    "import random\n",
    "import pandas as pd\n",
    "import os\n",
    "import re\n",
    "import seaborn as sns"
   ]
  },
  {
   "cell_type": "code",
   "execution_count": 46,
   "metadata": {
    "scrolled": true
   },
   "outputs": [
    {
     "name": "stdout",
     "output_type": "stream",
     "text": [
      "<class 'pandas.core.frame.DataFrame'>\n",
      "RangeIndex: 1457 entries, 0 to 1456\n",
      "Data columns (total 3 columns):\n",
      " #   Column                                      Non-Null Count  Dtype  \n",
      "---  ------                                      --------------  -----  \n",
      " 0   renewable energy generation percentage      1457 non-null   float64\n",
      " 1   non-renewable energy generation percentage  1457 non-null   float64\n",
      " 2   date                                        1457 non-null   object \n",
      "dtypes: float64(2), object(1)\n",
      "memory usage: 34.3+ KB\n"
     ]
    }
   ],
   "source": [
    "api_df = pd.read_csv('/Users/pptrv/IronHack/Week_3-Project/Data/df_energy_api_2015_to_2018_final.csv', encoding ='latin1')\n",
    "api_df.info()"
   ]
  },
  {
   "cell_type": "code",
   "execution_count": 48,
   "metadata": {},
   "outputs": [],
   "source": [
    "api_df = api_df.rename(columns={'date': 'Dates'})"
   ]
  },
  {
   "cell_type": "code",
   "execution_count": 49,
   "metadata": {},
   "outputs": [],
   "source": [
    "api_df= api_df.sort_values('Dates')"
   ]
  },
  {
   "cell_type": "code",
   "execution_count": 63,
   "metadata": {},
   "outputs": [
    {
     "data": {
      "text/html": [
       "<div>\n",
       "<style scoped>\n",
       "    .dataframe tbody tr th:only-of-type {\n",
       "        vertical-align: middle;\n",
       "    }\n",
       "\n",
       "    .dataframe tbody tr th {\n",
       "        vertical-align: top;\n",
       "    }\n",
       "\n",
       "    .dataframe thead th {\n",
       "        text-align: right;\n",
       "    }\n",
       "</style>\n",
       "<table border=\"1\" class=\"dataframe\">\n",
       "  <thead>\n",
       "    <tr style=\"text-align: right;\">\n",
       "      <th></th>\n",
       "      <th>renewable energy generation percentage</th>\n",
       "      <th>non-renewable energy generation percentage</th>\n",
       "      <th>Dates</th>\n",
       "    </tr>\n",
       "  </thead>\n",
       "  <tbody>\n",
       "    <tr>\n",
       "      <th>1452</th>\n",
       "      <td>0.244731</td>\n",
       "      <td>0.755269</td>\n",
       "      <td>2018-12-26</td>\n",
       "    </tr>\n",
       "    <tr>\n",
       "      <th>1453</th>\n",
       "      <td>0.314279</td>\n",
       "      <td>0.685721</td>\n",
       "      <td>2018-12-27</td>\n",
       "    </tr>\n",
       "    <tr>\n",
       "      <th>1454</th>\n",
       "      <td>0.456381</td>\n",
       "      <td>0.543619</td>\n",
       "      <td>2018-12-28</td>\n",
       "    </tr>\n",
       "    <tr>\n",
       "      <th>1455</th>\n",
       "      <td>0.408669</td>\n",
       "      <td>0.591331</td>\n",
       "      <td>2018-12-29</td>\n",
       "    </tr>\n",
       "    <tr>\n",
       "      <th>1456</th>\n",
       "      <td>0.341351</td>\n",
       "      <td>0.658649</td>\n",
       "      <td>2018-12-30</td>\n",
       "    </tr>\n",
       "  </tbody>\n",
       "</table>\n",
       "</div>"
      ],
      "text/plain": [
       "      renewable energy generation percentage  \\\n",
       "1452                                0.244731   \n",
       "1453                                0.314279   \n",
       "1454                                0.456381   \n",
       "1455                                0.408669   \n",
       "1456                                0.341351   \n",
       "\n",
       "      non-renewable energy generation percentage       Dates  \n",
       "1452                                    0.755269  2018-12-26  \n",
       "1453                                    0.685721  2018-12-27  \n",
       "1454                                    0.543619  2018-12-28  \n",
       "1455                                    0.591331  2018-12-29  \n",
       "1456                                    0.658649  2018-12-30  "
      ]
     },
     "execution_count": 63,
     "metadata": {},
     "output_type": "execute_result"
    }
   ],
   "source": [
    "api_df.tail(5)"
   ]
  },
  {
   "cell_type": "code",
   "execution_count": 51,
   "metadata": {},
   "outputs": [
    {
     "name": "stdout",
     "output_type": "stream",
     "text": [
      "<class 'pandas.core.frame.DataFrame'>\n",
      "RangeIndex: 1460 entries, 0 to 1459\n",
      "Data columns (total 2 columns):\n",
      " #   Column        Non-Null Count  Dtype  \n",
      "---  ------        --------------  -----  \n",
      " 0   Dates         1460 non-null   object \n",
      " 1   energy price  1460 non-null   float64\n",
      "dtypes: float64(1), object(1)\n",
      "memory usage: 22.9+ KB\n"
     ]
    }
   ],
   "source": [
    "kaggle_df = pd.read_csv('/Users/pptrv/IronHack/Week_3-Project/Data/data_energy_price_final.csv', encoding ='latin1')\n",
    "kaggle_df.info()"
   ]
  },
  {
   "cell_type": "code",
   "execution_count": 62,
   "metadata": {},
   "outputs": [
    {
     "data": {
      "text/html": [
       "<div>\n",
       "<style scoped>\n",
       "    .dataframe tbody tr th:only-of-type {\n",
       "        vertical-align: middle;\n",
       "    }\n",
       "\n",
       "    .dataframe tbody tr th {\n",
       "        vertical-align: top;\n",
       "    }\n",
       "\n",
       "    .dataframe thead th {\n",
       "        text-align: right;\n",
       "    }\n",
       "</style>\n",
       "<table border=\"1\" class=\"dataframe\">\n",
       "  <thead>\n",
       "    <tr style=\"text-align: right;\">\n",
       "      <th></th>\n",
       "      <th>Dates</th>\n",
       "      <th>energy price</th>\n",
       "    </tr>\n",
       "  </thead>\n",
       "  <tbody>\n",
       "    <tr>\n",
       "      <th>1455</th>\n",
       "      <td>2018-12-26</td>\n",
       "      <td>69.054167</td>\n",
       "    </tr>\n",
       "    <tr>\n",
       "      <th>1456</th>\n",
       "      <td>2018-12-27</td>\n",
       "      <td>72.959583</td>\n",
       "    </tr>\n",
       "    <tr>\n",
       "      <th>1457</th>\n",
       "      <td>2018-12-28</td>\n",
       "      <td>69.230417</td>\n",
       "    </tr>\n",
       "    <tr>\n",
       "      <th>1458</th>\n",
       "      <td>2018-12-29</td>\n",
       "      <td>62.623333</td>\n",
       "    </tr>\n",
       "    <tr>\n",
       "      <th>1459</th>\n",
       "      <td>2018-12-30</td>\n",
       "      <td>64.567083</td>\n",
       "    </tr>\n",
       "  </tbody>\n",
       "</table>\n",
       "</div>"
      ],
      "text/plain": [
       "           Dates  energy price\n",
       "1455  2018-12-26     69.054167\n",
       "1456  2018-12-27     72.959583\n",
       "1457  2018-12-28     69.230417\n",
       "1458  2018-12-29     62.623333\n",
       "1459  2018-12-30     64.567083"
      ]
     },
     "execution_count": 62,
     "metadata": {},
     "output_type": "execute_result"
    }
   ],
   "source": [
    "kaggle_df.tail(5)"
   ]
  },
  {
   "cell_type": "markdown",
   "metadata": {},
   "source": [
    "Merge both dataframes:"
   ]
  },
  {
   "cell_type": "code",
   "execution_count": 53,
   "metadata": {},
   "outputs": [],
   "source": [
    "merged_dfs = pd.merge(api_df, kaggle_df, on=\"Dates\")"
   ]
  },
  {
   "cell_type": "code",
   "execution_count": 56,
   "metadata": {
    "scrolled": true
   },
   "outputs": [
    {
     "data": {
      "text/html": [
       "<div>\n",
       "<style scoped>\n",
       "    .dataframe tbody tr th:only-of-type {\n",
       "        vertical-align: middle;\n",
       "    }\n",
       "\n",
       "    .dataframe tbody tr th {\n",
       "        vertical-align: top;\n",
       "    }\n",
       "\n",
       "    .dataframe thead th {\n",
       "        text-align: right;\n",
       "    }\n",
       "</style>\n",
       "<table border=\"1\" class=\"dataframe\">\n",
       "  <thead>\n",
       "    <tr style=\"text-align: right;\">\n",
       "      <th></th>\n",
       "      <th>renewable energy generation percentage</th>\n",
       "      <th>non-renewable energy generation percentage</th>\n",
       "      <th>Dates</th>\n",
       "      <th>energy price</th>\n",
       "    </tr>\n",
       "  </thead>\n",
       "  <tbody>\n",
       "    <tr>\n",
       "      <th>0</th>\n",
       "      <td>0.286496</td>\n",
       "      <td>0.713504</td>\n",
       "      <td>2015-01-01</td>\n",
       "      <td>62.090833</td>\n",
       "    </tr>\n",
       "    <tr>\n",
       "      <th>1</th>\n",
       "      <td>0.305717</td>\n",
       "      <td>0.694283</td>\n",
       "      <td>2015-01-02</td>\n",
       "      <td>69.443750</td>\n",
       "    </tr>\n",
       "    <tr>\n",
       "      <th>2</th>\n",
       "      <td>0.316026</td>\n",
       "      <td>0.683974</td>\n",
       "      <td>2015-01-03</td>\n",
       "      <td>65.223333</td>\n",
       "    </tr>\n",
       "    <tr>\n",
       "      <th>3</th>\n",
       "      <td>0.253253</td>\n",
       "      <td>0.746747</td>\n",
       "      <td>2015-01-04</td>\n",
       "      <td>58.912083</td>\n",
       "    </tr>\n",
       "    <tr>\n",
       "      <th>4</th>\n",
       "      <td>0.260555</td>\n",
       "      <td>0.739445</td>\n",
       "      <td>2015-01-05</td>\n",
       "      <td>74.598333</td>\n",
       "    </tr>\n",
       "  </tbody>\n",
       "</table>\n",
       "</div>"
      ],
      "text/plain": [
       "   renewable energy generation percentage  \\\n",
       "0                                0.286496   \n",
       "1                                0.305717   \n",
       "2                                0.316026   \n",
       "3                                0.253253   \n",
       "4                                0.260555   \n",
       "\n",
       "   non-renewable energy generation percentage       Dates  energy price  \n",
       "0                                    0.713504  2015-01-01     62.090833  \n",
       "1                                    0.694283  2015-01-02     69.443750  \n",
       "2                                    0.683974  2015-01-03     65.223333  \n",
       "3                                    0.746747  2015-01-04     58.912083  \n",
       "4                                    0.739445  2015-01-05     74.598333  "
      ]
     },
     "execution_count": 56,
     "metadata": {},
     "output_type": "execute_result"
    }
   ],
   "source": [
    "merged_dfs.head(5)"
   ]
  },
  {
   "cell_type": "markdown",
   "metadata": {},
   "source": [
    "Re-organizing columns:"
   ]
  },
  {
   "cell_type": "code",
   "execution_count": 60,
   "metadata": {},
   "outputs": [],
   "source": [
    "merged_dfs = merged_dfs[[\"Dates\", \"renewable energy generation percentage\", \"non-renewable energy generation percentage\", \"energy price\"]]"
   ]
  },
  {
   "cell_type": "code",
   "execution_count": 64,
   "metadata": {},
   "outputs": [
    {
     "data": {
      "text/html": [
       "<div>\n",
       "<style scoped>\n",
       "    .dataframe tbody tr th:only-of-type {\n",
       "        vertical-align: middle;\n",
       "    }\n",
       "\n",
       "    .dataframe tbody tr th {\n",
       "        vertical-align: top;\n",
       "    }\n",
       "\n",
       "    .dataframe thead th {\n",
       "        text-align: right;\n",
       "    }\n",
       "</style>\n",
       "<table border=\"1\" class=\"dataframe\">\n",
       "  <thead>\n",
       "    <tr style=\"text-align: right;\">\n",
       "      <th></th>\n",
       "      <th>Dates</th>\n",
       "      <th>renewable energy generation percentage</th>\n",
       "      <th>non-renewable energy generation percentage</th>\n",
       "      <th>energy price</th>\n",
       "    </tr>\n",
       "  </thead>\n",
       "  <tbody>\n",
       "    <tr>\n",
       "      <th>1452</th>\n",
       "      <td>2018-12-26</td>\n",
       "      <td>0.244731</td>\n",
       "      <td>0.755269</td>\n",
       "      <td>69.054167</td>\n",
       "    </tr>\n",
       "    <tr>\n",
       "      <th>1453</th>\n",
       "      <td>2018-12-27</td>\n",
       "      <td>0.314279</td>\n",
       "      <td>0.685721</td>\n",
       "      <td>72.959583</td>\n",
       "    </tr>\n",
       "    <tr>\n",
       "      <th>1454</th>\n",
       "      <td>2018-12-28</td>\n",
       "      <td>0.456381</td>\n",
       "      <td>0.543619</td>\n",
       "      <td>69.230417</td>\n",
       "    </tr>\n",
       "    <tr>\n",
       "      <th>1455</th>\n",
       "      <td>2018-12-29</td>\n",
       "      <td>0.408669</td>\n",
       "      <td>0.591331</td>\n",
       "      <td>62.623333</td>\n",
       "    </tr>\n",
       "    <tr>\n",
       "      <th>1456</th>\n",
       "      <td>2018-12-30</td>\n",
       "      <td>0.341351</td>\n",
       "      <td>0.658649</td>\n",
       "      <td>64.567083</td>\n",
       "    </tr>\n",
       "  </tbody>\n",
       "</table>\n",
       "</div>"
      ],
      "text/plain": [
       "           Dates  renewable energy generation percentage  \\\n",
       "1452  2018-12-26                                0.244731   \n",
       "1453  2018-12-27                                0.314279   \n",
       "1454  2018-12-28                                0.456381   \n",
       "1455  2018-12-29                                0.408669   \n",
       "1456  2018-12-30                                0.341351   \n",
       "\n",
       "      non-renewable energy generation percentage  energy price  \n",
       "1452                                    0.755269     69.054167  \n",
       "1453                                    0.685721     72.959583  \n",
       "1454                                    0.543619     69.230417  \n",
       "1455                                    0.591331     62.623333  \n",
       "1456                                    0.658649     64.567083  "
      ]
     },
     "execution_count": 64,
     "metadata": {},
     "output_type": "execute_result"
    }
   ],
   "source": [
    "merged_dfs.tail(5)"
   ]
  },
  {
   "cell_type": "markdown",
   "metadata": {},
   "source": [
    "Final dataframe:"
   ]
  },
  {
   "cell_type": "code",
   "execution_count": 66,
   "metadata": {},
   "outputs": [],
   "source": [
    "energy_price_vs_generation_data = merged_dfs"
   ]
  },
  {
   "cell_type": "markdown",
   "metadata": {},
   "source": [
    "Convert df to csv"
   ]
  },
  {
   "cell_type": "code",
   "execution_count": 68,
   "metadata": {},
   "outputs": [],
   "source": [
    "energy_price_vs_generation_data.to_csv(r'/Users/pptrv/IronHack/Week_3-Project/Data/energy_price_vs_generation_data.csv', index = False)"
   ]
  }
 ],
 "metadata": {
  "kernelspec": {
   "display_name": "Python 3",
   "language": "python",
   "name": "python3"
  },
  "language_info": {
   "codemirror_mode": {
    "name": "ipython",
    "version": 3
   },
   "file_extension": ".py",
   "mimetype": "text/x-python",
   "name": "python",
   "nbconvert_exporter": "python",
   "pygments_lexer": "ipython3",
   "version": "3.9.0"
  }
 },
 "nbformat": 4,
 "nbformat_minor": 4
}
